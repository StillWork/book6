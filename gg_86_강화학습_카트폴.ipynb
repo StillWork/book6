{
  "nbformat": 4,
  "nbformat_minor": 0,
  "metadata": {
    "colab": {
      "name": "gg_86_강화학습_카트폴.ipynb",
      "provenance": [],
      "collapsed_sections": []
    },
    "kernelspec": {
      "display_name": "Python 3",
      "language": "python",
      "name": "python3"
    },
    "language_info": {
      "codemirror_mode": {
        "name": "ipython",
        "version": 3
      },
      "file_extension": ".py",
      "mimetype": "text/x-python",
      "name": "python",
      "nbconvert_exporter": "python",
      "pygments_lexer": "ipython3",
      "version": "3.7.6"
    },
    "accelerator": "GPU"
  },
  "cells": [
    {
      "cell_type": "markdown",
      "metadata": {
        "colab_type": "text",
        "id": "hRMMw81tY990"
      },
      "source": [
        "# 강화학습 - 카트폴\n",
        "## Matthias Plappert 라이브러리 사용\n",
        "## PC에서 실행\n"
      ]
    },
    {
      "cell_type": "code",
      "metadata": {
        "id": "OwemfBD_CQNF",
        "colab_type": "code",
        "colab": {},
        "outputId": "568a0f0d-a05f-4e01-a37b-234a695999bb"
      },
      "source": [
        "!pip install keras"
      ],
      "execution_count": 0,
      "outputs": [
        {
          "output_type": "stream",
          "text": [
            "Requirement already satisfied: keras in /Users/hwa-kim/opt/anaconda3/lib/python3.7/site-packages/Keras-2.3.1-py3.7.egg (2.3.1)\r\n",
            "Requirement already satisfied: h5py in /Users/hwa-kim/opt/anaconda3/lib/python3.7/site-packages (from keras) (2.10.0)\r\n",
            "Requirement already satisfied: keras-applications>=1.0.6 in /Users/hwa-kim/opt/anaconda3/lib/python3.7/site-packages (from keras) (1.0.8)\r\n",
            "Requirement already satisfied: keras-preprocessing>=1.0.5 in /Users/hwa-kim/opt/anaconda3/lib/python3.7/site-packages (from keras) (1.1.0)\r\n",
            "Requirement already satisfied: numpy>=1.9.1 in /Users/hwa-kim/opt/anaconda3/lib/python3.7/site-packages (from keras) (1.18.1)\r\n",
            "Requirement already satisfied: pyyaml in /Users/hwa-kim/opt/anaconda3/lib/python3.7/site-packages (from keras) (5.3)\r\n",
            "Requirement already satisfied: scipy>=0.14 in /Users/hwa-kim/opt/anaconda3/lib/python3.7/site-packages (from keras) (1.4.1)\r\n",
            "Requirement already satisfied: six>=1.9.0 in /Users/hwa-kim/opt/anaconda3/lib/python3.7/site-packages (from keras) (1.14.0)\r\n"
          ],
          "name": "stdout"
        }
      ]
    },
    {
      "cell_type": "code",
      "metadata": {
        "id": "3wYnfC7RCQNM",
        "colab_type": "code",
        "colab": {},
        "outputId": "b9b5cc33-0436-4129-bd4c-d7afa98ce7cc"
      },
      "source": [
        "import keras"
      ],
      "execution_count": 0,
      "outputs": [
        {
          "output_type": "stream",
          "text": [
            "Using TensorFlow backend.\n",
            "/Users/hwa-kim/opt/anaconda3/lib/python3.7/site-packages/tensorflow/python/framework/dtypes.py:516: FutureWarning: Passing (type, 1) or '1type' as a synonym of type is deprecated; in a future version of numpy, it will be understood as (type, (1,)) / '(1,)type'.\n",
            "  _np_qint8 = np.dtype([(\"qint8\", np.int8, 1)])\n",
            "/Users/hwa-kim/opt/anaconda3/lib/python3.7/site-packages/tensorflow/python/framework/dtypes.py:517: FutureWarning: Passing (type, 1) or '1type' as a synonym of type is deprecated; in a future version of numpy, it will be understood as (type, (1,)) / '(1,)type'.\n",
            "  _np_quint8 = np.dtype([(\"quint8\", np.uint8, 1)])\n",
            "/Users/hwa-kim/opt/anaconda3/lib/python3.7/site-packages/tensorflow/python/framework/dtypes.py:518: FutureWarning: Passing (type, 1) or '1type' as a synonym of type is deprecated; in a future version of numpy, it will be understood as (type, (1,)) / '(1,)type'.\n",
            "  _np_qint16 = np.dtype([(\"qint16\", np.int16, 1)])\n",
            "/Users/hwa-kim/opt/anaconda3/lib/python3.7/site-packages/tensorflow/python/framework/dtypes.py:519: FutureWarning: Passing (type, 1) or '1type' as a synonym of type is deprecated; in a future version of numpy, it will be understood as (type, (1,)) / '(1,)type'.\n",
            "  _np_quint16 = np.dtype([(\"quint16\", np.uint16, 1)])\n",
            "/Users/hwa-kim/opt/anaconda3/lib/python3.7/site-packages/tensorflow/python/framework/dtypes.py:520: FutureWarning: Passing (type, 1) or '1type' as a synonym of type is deprecated; in a future version of numpy, it will be understood as (type, (1,)) / '(1,)type'.\n",
            "  _np_qint32 = np.dtype([(\"qint32\", np.int32, 1)])\n",
            "/Users/hwa-kim/opt/anaconda3/lib/python3.7/site-packages/tensorflow/python/framework/dtypes.py:525: FutureWarning: Passing (type, 1) or '1type' as a synonym of type is deprecated; in a future version of numpy, it will be understood as (type, (1,)) / '(1,)type'.\n",
            "  np_resource = np.dtype([(\"resource\", np.ubyte, 1)])\n",
            "/Users/hwa-kim/opt/anaconda3/lib/python3.7/site-packages/tensorboard/compat/tensorflow_stub/dtypes.py:541: FutureWarning: Passing (type, 1) or '1type' as a synonym of type is deprecated; in a future version of numpy, it will be understood as (type, (1,)) / '(1,)type'.\n",
            "  _np_qint8 = np.dtype([(\"qint8\", np.int8, 1)])\n",
            "/Users/hwa-kim/opt/anaconda3/lib/python3.7/site-packages/tensorboard/compat/tensorflow_stub/dtypes.py:542: FutureWarning: Passing (type, 1) or '1type' as a synonym of type is deprecated; in a future version of numpy, it will be understood as (type, (1,)) / '(1,)type'.\n",
            "  _np_quint8 = np.dtype([(\"quint8\", np.uint8, 1)])\n",
            "/Users/hwa-kim/opt/anaconda3/lib/python3.7/site-packages/tensorboard/compat/tensorflow_stub/dtypes.py:543: FutureWarning: Passing (type, 1) or '1type' as a synonym of type is deprecated; in a future version of numpy, it will be understood as (type, (1,)) / '(1,)type'.\n",
            "  _np_qint16 = np.dtype([(\"qint16\", np.int16, 1)])\n",
            "/Users/hwa-kim/opt/anaconda3/lib/python3.7/site-packages/tensorboard/compat/tensorflow_stub/dtypes.py:544: FutureWarning: Passing (type, 1) or '1type' as a synonym of type is deprecated; in a future version of numpy, it will be understood as (type, (1,)) / '(1,)type'.\n",
            "  _np_quint16 = np.dtype([(\"quint16\", np.uint16, 1)])\n",
            "/Users/hwa-kim/opt/anaconda3/lib/python3.7/site-packages/tensorboard/compat/tensorflow_stub/dtypes.py:545: FutureWarning: Passing (type, 1) or '1type' as a synonym of type is deprecated; in a future version of numpy, it will be understood as (type, (1,)) / '(1,)type'.\n",
            "  _np_qint32 = np.dtype([(\"qint32\", np.int32, 1)])\n",
            "/Users/hwa-kim/opt/anaconda3/lib/python3.7/site-packages/tensorboard/compat/tensorflow_stub/dtypes.py:550: FutureWarning: Passing (type, 1) or '1type' as a synonym of type is deprecated; in a future version of numpy, it will be understood as (type, (1,)) / '(1,)type'.\n",
            "  np_resource = np.dtype([(\"resource\", np.ubyte, 1)])\n"
          ],
          "name": "stderr"
        }
      ]
    },
    {
      "cell_type": "code",
      "metadata": {
        "colab_type": "code",
        "id": "FaFRTG3YGNMo",
        "outputId": "1b57b0cc-5541-40b2-b37c-932c0a8e9385",
        "colab": {
          "base_uri": "https://localhost:8080/",
          "height": 106
        }
      },
      "source": [
        "!git clone https://github.com/matthiasplappert/keras-rl.git "
      ],
      "execution_count": 1,
      "outputs": [
        {
          "output_type": "stream",
          "text": [
            "Cloning into 'keras-rl'...\n",
            "remote: Enumerating objects: 1723, done.\u001b[K\n",
            "remote: Total 1723 (delta 0), reused 0 (delta 0), pack-reused 1723\u001b[K\n",
            "Receiving objects: 100% (1723/1723), 1.38 MiB | 1.11 MiB/s, done.\n",
            "Resolving deltas: 100% (1070/1070), done.\n"
          ],
          "name": "stdout"
        }
      ]
    },
    {
      "cell_type": "code",
      "metadata": {
        "colab_type": "code",
        "id": "BVsHTzXxHbZC",
        "outputId": "755e087c-778d-494b-a0ba-85ecf5596d5f",
        "colab": {
          "base_uri": "https://localhost:8080/",
          "height": 35
        }
      },
      "source": [
        "%cd keras-rl"
      ],
      "execution_count": 2,
      "outputs": [
        {
          "output_type": "stream",
          "text": [
            "/content/keras-rl\n"
          ],
          "name": "stdout"
        }
      ]
    },
    {
      "cell_type": "code",
      "metadata": {
        "colab_type": "code",
        "id": "OFwSaiGOHrkH",
        "outputId": "3b337026-4bf1-42cc-e739-f4f5548210b3",
        "colab": {
          "base_uri": "https://localhost:8080/",
          "height": 35
        }
      },
      "source": [
        "!pwd"
      ],
      "execution_count": 3,
      "outputs": [
        {
          "output_type": "stream",
          "text": [
            "/content/keras-rl\n"
          ],
          "name": "stdout"
        }
      ]
    },
    {
      "cell_type": "code",
      "metadata": {
        "colab_type": "code",
        "id": "f4MdKv6qHuSQ",
        "outputId": "dc1624e4-d543-429f-9d16-10a2fa1e2695",
        "colab": {
          "base_uri": "https://localhost:8080/",
          "height": 1000
        }
      },
      "source": [
        "!python setup.py install"
      ],
      "execution_count": 4,
      "outputs": [
        {
          "output_type": "stream",
          "text": [
            "running install\n",
            "running bdist_egg\n",
            "running egg_info\n",
            "creating keras_rl.egg-info\n",
            "writing keras_rl.egg-info/PKG-INFO\n",
            "writing dependency_links to keras_rl.egg-info/dependency_links.txt\n",
            "writing requirements to keras_rl.egg-info/requires.txt\n",
            "writing top-level names to keras_rl.egg-info/top_level.txt\n",
            "writing manifest file 'keras_rl.egg-info/SOURCES.txt'\n",
            "writing manifest file 'keras_rl.egg-info/SOURCES.txt'\n",
            "installing library code to build/bdist.linux-x86_64/egg\n",
            "running install_lib\n",
            "running build_py\n",
            "creating build\n",
            "creating build/lib\n",
            "creating build/lib/tests\n",
            "copying tests/__init__.py -> build/lib/tests\n",
            "creating build/lib/rl\n",
            "copying rl/callbacks.py -> build/lib/rl\n",
            "copying rl/policy.py -> build/lib/rl\n",
            "copying rl/__init__.py -> build/lib/rl\n",
            "copying rl/random.py -> build/lib/rl\n",
            "copying rl/memory.py -> build/lib/rl\n",
            "copying rl/processors.py -> build/lib/rl\n",
            "copying rl/core.py -> build/lib/rl\n",
            "copying rl/util.py -> build/lib/rl\n",
            "creating build/lib/utils\n",
            "copying utils/__init__.py -> build/lib/utils\n",
            "creating build/lib/tests/rl\n",
            "copying tests/rl/test_core.py -> build/lib/tests/rl\n",
            "copying tests/rl/test_util.py -> build/lib/tests/rl\n",
            "copying tests/rl/test_memory.py -> build/lib/tests/rl\n",
            "copying tests/rl/__init__.py -> build/lib/tests/rl\n",
            "copying tests/rl/util.py -> build/lib/tests/rl\n",
            "creating build/lib/tests/rl/agents\n",
            "copying tests/rl/agents/test_dqn.py -> build/lib/tests/rl/agents\n",
            "copying tests/rl/agents/test_cem.py -> build/lib/tests/rl/agents\n",
            "copying tests/rl/agents/__init__.py -> build/lib/tests/rl/agents\n",
            "copying tests/rl/agents/test_ddpg.py -> build/lib/tests/rl/agents\n",
            "creating build/lib/rl/agents\n",
            "copying rl/agents/cem.py -> build/lib/rl/agents\n",
            "copying rl/agents/__init__.py -> build/lib/rl/agents\n",
            "copying rl/agents/ddpg.py -> build/lib/rl/agents\n",
            "copying rl/agents/sarsa.py -> build/lib/rl/agents\n",
            "copying rl/agents/dqn.py -> build/lib/rl/agents\n",
            "creating build/lib/rl/common\n",
            "copying rl/common/__init__.py -> build/lib/rl/common\n",
            "copying rl/common/cmd_util.py -> build/lib/rl/common\n",
            "copying rl/common/tile_images.py -> build/lib/rl/common\n",
            "copying rl/common/misc_util.py -> build/lib/rl/common\n",
            "creating build/lib/rl/common/vec_env\n",
            "copying rl/common/vec_env/__init__.py -> build/lib/rl/common/vec_env\n",
            "copying rl/common/vec_env/subproc_env_vec.py -> build/lib/rl/common/vec_env\n",
            "creating build/lib/utils/gym\n",
            "copying utils/gym/__init__.py -> build/lib/utils/gym\n",
            "copying utils/gym/prng.py -> build/lib/utils/gym\n",
            "creating build/lib/utils/gym/envs\n",
            "copying utils/gym/envs/__init__.py -> build/lib/utils/gym/envs\n",
            "copying utils/gym/envs/twoRoundDeterministicRewardEnv.py -> build/lib/utils/gym/envs\n",
            "creating build/lib/utils/gym/spaces\n",
            "copying utils/gym/spaces/__init__.py -> build/lib/utils/gym/spaces\n",
            "copying utils/gym/spaces/discrete.py -> build/lib/utils/gym/spaces\n",
            "creating build/bdist.linux-x86_64\n",
            "creating build/bdist.linux-x86_64/egg\n",
            "creating build/bdist.linux-x86_64/egg/tests\n",
            "copying build/lib/tests/__init__.py -> build/bdist.linux-x86_64/egg/tests\n",
            "creating build/bdist.linux-x86_64/egg/tests/rl\n",
            "copying build/lib/tests/rl/test_core.py -> build/bdist.linux-x86_64/egg/tests/rl\n",
            "copying build/lib/tests/rl/test_util.py -> build/bdist.linux-x86_64/egg/tests/rl\n",
            "copying build/lib/tests/rl/test_memory.py -> build/bdist.linux-x86_64/egg/tests/rl\n",
            "copying build/lib/tests/rl/__init__.py -> build/bdist.linux-x86_64/egg/tests/rl\n",
            "creating build/bdist.linux-x86_64/egg/tests/rl/agents\n",
            "copying build/lib/tests/rl/agents/test_dqn.py -> build/bdist.linux-x86_64/egg/tests/rl/agents\n",
            "copying build/lib/tests/rl/agents/test_cem.py -> build/bdist.linux-x86_64/egg/tests/rl/agents\n",
            "copying build/lib/tests/rl/agents/__init__.py -> build/bdist.linux-x86_64/egg/tests/rl/agents\n",
            "copying build/lib/tests/rl/agents/test_ddpg.py -> build/bdist.linux-x86_64/egg/tests/rl/agents\n",
            "copying build/lib/tests/rl/util.py -> build/bdist.linux-x86_64/egg/tests/rl\n",
            "creating build/bdist.linux-x86_64/egg/rl\n",
            "copying build/lib/rl/callbacks.py -> build/bdist.linux-x86_64/egg/rl\n",
            "copying build/lib/rl/policy.py -> build/bdist.linux-x86_64/egg/rl\n",
            "copying build/lib/rl/__init__.py -> build/bdist.linux-x86_64/egg/rl\n",
            "creating build/bdist.linux-x86_64/egg/rl/agents\n",
            "copying build/lib/rl/agents/cem.py -> build/bdist.linux-x86_64/egg/rl/agents\n",
            "copying build/lib/rl/agents/__init__.py -> build/bdist.linux-x86_64/egg/rl/agents\n",
            "copying build/lib/rl/agents/ddpg.py -> build/bdist.linux-x86_64/egg/rl/agents\n",
            "copying build/lib/rl/agents/sarsa.py -> build/bdist.linux-x86_64/egg/rl/agents\n",
            "copying build/lib/rl/agents/dqn.py -> build/bdist.linux-x86_64/egg/rl/agents\n",
            "creating build/bdist.linux-x86_64/egg/rl/common\n",
            "creating build/bdist.linux-x86_64/egg/rl/common/vec_env\n",
            "copying build/lib/rl/common/vec_env/__init__.py -> build/bdist.linux-x86_64/egg/rl/common/vec_env\n",
            "copying build/lib/rl/common/vec_env/subproc_env_vec.py -> build/bdist.linux-x86_64/egg/rl/common/vec_env\n",
            "copying build/lib/rl/common/__init__.py -> build/bdist.linux-x86_64/egg/rl/common\n",
            "copying build/lib/rl/common/cmd_util.py -> build/bdist.linux-x86_64/egg/rl/common\n",
            "copying build/lib/rl/common/tile_images.py -> build/bdist.linux-x86_64/egg/rl/common\n",
            "copying build/lib/rl/common/misc_util.py -> build/bdist.linux-x86_64/egg/rl/common\n",
            "copying build/lib/rl/random.py -> build/bdist.linux-x86_64/egg/rl\n",
            "copying build/lib/rl/memory.py -> build/bdist.linux-x86_64/egg/rl\n",
            "copying build/lib/rl/processors.py -> build/bdist.linux-x86_64/egg/rl\n",
            "copying build/lib/rl/core.py -> build/bdist.linux-x86_64/egg/rl\n",
            "copying build/lib/rl/util.py -> build/bdist.linux-x86_64/egg/rl\n",
            "creating build/bdist.linux-x86_64/egg/utils\n",
            "copying build/lib/utils/__init__.py -> build/bdist.linux-x86_64/egg/utils\n",
            "creating build/bdist.linux-x86_64/egg/utils/gym\n",
            "copying build/lib/utils/gym/__init__.py -> build/bdist.linux-x86_64/egg/utils/gym\n",
            "copying build/lib/utils/gym/prng.py -> build/bdist.linux-x86_64/egg/utils/gym\n",
            "creating build/bdist.linux-x86_64/egg/utils/gym/envs\n",
            "copying build/lib/utils/gym/envs/__init__.py -> build/bdist.linux-x86_64/egg/utils/gym/envs\n",
            "copying build/lib/utils/gym/envs/twoRoundDeterministicRewardEnv.py -> build/bdist.linux-x86_64/egg/utils/gym/envs\n",
            "creating build/bdist.linux-x86_64/egg/utils/gym/spaces\n",
            "copying build/lib/utils/gym/spaces/__init__.py -> build/bdist.linux-x86_64/egg/utils/gym/spaces\n",
            "copying build/lib/utils/gym/spaces/discrete.py -> build/bdist.linux-x86_64/egg/utils/gym/spaces\n",
            "byte-compiling build/bdist.linux-x86_64/egg/tests/__init__.py to __init__.cpython-36.pyc\n",
            "byte-compiling build/bdist.linux-x86_64/egg/tests/rl/test_core.py to test_core.cpython-36.pyc\n",
            "byte-compiling build/bdist.linux-x86_64/egg/tests/rl/test_util.py to test_util.cpython-36.pyc\n",
            "byte-compiling build/bdist.linux-x86_64/egg/tests/rl/test_memory.py to test_memory.cpython-36.pyc\n",
            "byte-compiling build/bdist.linux-x86_64/egg/tests/rl/__init__.py to __init__.cpython-36.pyc\n",
            "byte-compiling build/bdist.linux-x86_64/egg/tests/rl/agents/test_dqn.py to test_dqn.cpython-36.pyc\n",
            "byte-compiling build/bdist.linux-x86_64/egg/tests/rl/agents/test_cem.py to test_cem.cpython-36.pyc\n",
            "byte-compiling build/bdist.linux-x86_64/egg/tests/rl/agents/__init__.py to __init__.cpython-36.pyc\n",
            "byte-compiling build/bdist.linux-x86_64/egg/tests/rl/agents/test_ddpg.py to test_ddpg.cpython-36.pyc\n",
            "byte-compiling build/bdist.linux-x86_64/egg/tests/rl/util.py to util.cpython-36.pyc\n",
            "byte-compiling build/bdist.linux-x86_64/egg/rl/callbacks.py to callbacks.cpython-36.pyc\n",
            "byte-compiling build/bdist.linux-x86_64/egg/rl/policy.py to policy.cpython-36.pyc\n",
            "byte-compiling build/bdist.linux-x86_64/egg/rl/__init__.py to __init__.cpython-36.pyc\n",
            "byte-compiling build/bdist.linux-x86_64/egg/rl/agents/cem.py to cem.cpython-36.pyc\n",
            "byte-compiling build/bdist.linux-x86_64/egg/rl/agents/__init__.py to __init__.cpython-36.pyc\n",
            "byte-compiling build/bdist.linux-x86_64/egg/rl/agents/ddpg.py to ddpg.cpython-36.pyc\n",
            "byte-compiling build/bdist.linux-x86_64/egg/rl/agents/sarsa.py to sarsa.cpython-36.pyc\n",
            "byte-compiling build/bdist.linux-x86_64/egg/rl/agents/dqn.py to dqn.cpython-36.pyc\n",
            "byte-compiling build/bdist.linux-x86_64/egg/rl/common/vec_env/__init__.py to __init__.cpython-36.pyc\n",
            "byte-compiling build/bdist.linux-x86_64/egg/rl/common/vec_env/subproc_env_vec.py to subproc_env_vec.cpython-36.pyc\n",
            "byte-compiling build/bdist.linux-x86_64/egg/rl/common/__init__.py to __init__.cpython-36.pyc\n",
            "byte-compiling build/bdist.linux-x86_64/egg/rl/common/cmd_util.py to cmd_util.cpython-36.pyc\n",
            "byte-compiling build/bdist.linux-x86_64/egg/rl/common/tile_images.py to tile_images.cpython-36.pyc\n",
            "byte-compiling build/bdist.linux-x86_64/egg/rl/common/misc_util.py to misc_util.cpython-36.pyc\n",
            "byte-compiling build/bdist.linux-x86_64/egg/rl/random.py to random.cpython-36.pyc\n",
            "byte-compiling build/bdist.linux-x86_64/egg/rl/memory.py to memory.cpython-36.pyc\n",
            "byte-compiling build/bdist.linux-x86_64/egg/rl/processors.py to processors.cpython-36.pyc\n",
            "byte-compiling build/bdist.linux-x86_64/egg/rl/core.py to core.cpython-36.pyc\n",
            "byte-compiling build/bdist.linux-x86_64/egg/rl/util.py to util.cpython-36.pyc\n",
            "byte-compiling build/bdist.linux-x86_64/egg/utils/__init__.py to __init__.cpython-36.pyc\n",
            "byte-compiling build/bdist.linux-x86_64/egg/utils/gym/__init__.py to __init__.cpython-36.pyc\n",
            "byte-compiling build/bdist.linux-x86_64/egg/utils/gym/prng.py to prng.cpython-36.pyc\n",
            "byte-compiling build/bdist.linux-x86_64/egg/utils/gym/envs/__init__.py to __init__.cpython-36.pyc\n",
            "byte-compiling build/bdist.linux-x86_64/egg/utils/gym/envs/twoRoundDeterministicRewardEnv.py to twoRoundDeterministicRewardEnv.cpython-36.pyc\n",
            "byte-compiling build/bdist.linux-x86_64/egg/utils/gym/spaces/__init__.py to __init__.cpython-36.pyc\n",
            "byte-compiling build/bdist.linux-x86_64/egg/utils/gym/spaces/discrete.py to discrete.cpython-36.pyc\n",
            "creating build/bdist.linux-x86_64/egg/EGG-INFO\n",
            "copying keras_rl.egg-info/PKG-INFO -> build/bdist.linux-x86_64/egg/EGG-INFO\n",
            "copying keras_rl.egg-info/SOURCES.txt -> build/bdist.linux-x86_64/egg/EGG-INFO\n",
            "copying keras_rl.egg-info/dependency_links.txt -> build/bdist.linux-x86_64/egg/EGG-INFO\n",
            "copying keras_rl.egg-info/requires.txt -> build/bdist.linux-x86_64/egg/EGG-INFO\n",
            "copying keras_rl.egg-info/top_level.txt -> build/bdist.linux-x86_64/egg/EGG-INFO\n",
            "zip_safe flag not set; analyzing archive contents...\n",
            "tests.rl.__pycache__.test_core.cpython-36: module references __file__\n",
            "tests.rl.__pycache__.test_memory.cpython-36: module references __file__\n",
            "tests.rl.__pycache__.test_util.cpython-36: module references __file__\n",
            "tests.rl.agents.__pycache__.test_dqn.cpython-36: module references __file__\n",
            "creating dist\n",
            "creating 'dist/keras_rl-0.4.2-py3.6.egg' and adding 'build/bdist.linux-x86_64/egg' to it\n",
            "removing 'build/bdist.linux-x86_64/egg' (and everything under it)\n",
            "Processing keras_rl-0.4.2-py3.6.egg\n",
            "creating /usr/local/lib/python3.6/dist-packages/keras_rl-0.4.2-py3.6.egg\n",
            "Extracting keras_rl-0.4.2-py3.6.egg to /usr/local/lib/python3.6/dist-packages\n",
            "Adding keras-rl 0.4.2 to easy-install.pth file\n",
            "\n",
            "Installed /usr/local/lib/python3.6/dist-packages/keras_rl-0.4.2-py3.6.egg\n",
            "Processing dependencies for keras-rl==0.4.2\n",
            "Searching for Keras==2.3.1\n",
            "Best match: Keras 2.3.1\n",
            "Adding Keras 2.3.1 to easy-install.pth file\n",
            "\n",
            "Using /usr/local/lib/python3.6/dist-packages\n",
            "Searching for PyYAML==3.13\n",
            "Best match: PyYAML 3.13\n",
            "Adding PyYAML 3.13 to easy-install.pth file\n",
            "\n",
            "Using /usr/local/lib/python3.6/dist-packages\n",
            "Searching for Keras-Applications==1.0.8\n",
            "Best match: Keras-Applications 1.0.8\n",
            "Adding Keras-Applications 1.0.8 to easy-install.pth file\n",
            "\n",
            "Using /usr/local/lib/python3.6/dist-packages\n",
            "Searching for Keras-Preprocessing==1.1.2\n",
            "Best match: Keras-Preprocessing 1.1.2\n",
            "Adding Keras-Preprocessing 1.1.2 to easy-install.pth file\n",
            "\n",
            "Using /usr/local/lib/python3.6/dist-packages\n",
            "Searching for numpy==1.18.4\n",
            "Best match: numpy 1.18.4\n",
            "Adding numpy 1.18.4 to easy-install.pth file\n",
            "Installing f2py script to /usr/local/bin\n",
            "Installing f2py3 script to /usr/local/bin\n",
            "Installing f2py3.6 script to /usr/local/bin\n",
            "\n",
            "Using /usr/local/lib/python3.6/dist-packages\n",
            "Searching for six==1.12.0\n",
            "Best match: six 1.12.0\n",
            "Adding six 1.12.0 to easy-install.pth file\n",
            "\n",
            "Using /usr/local/lib/python3.6/dist-packages\n",
            "Searching for h5py==2.10.0\n",
            "Best match: h5py 2.10.0\n",
            "Adding h5py 2.10.0 to easy-install.pth file\n",
            "\n",
            "Using /usr/local/lib/python3.6/dist-packages\n",
            "Searching for scipy==1.4.1\n",
            "Best match: scipy 1.4.1\n",
            "Adding scipy 1.4.1 to easy-install.pth file\n",
            "\n",
            "Using /usr/local/lib/python3.6/dist-packages\n",
            "Finished processing dependencies for keras-rl==0.4.2\n"
          ],
          "name": "stdout"
        }
      ]
    },
    {
      "cell_type": "code",
      "metadata": {
        "colab_type": "code",
        "id": "b7KQwIpIHxGc",
        "outputId": "df96f542-6608-40dd-ca4b-7ac6fa4f371b",
        "colab": {
          "base_uri": "https://localhost:8080/",
          "height": 462
        }
      },
      "source": [
        "!pip install gym\n",
        "!pip install gym[atarti]\n",
        "!pip install gym[Box2D]"
      ],
      "execution_count": 5,
      "outputs": [
        {
          "output_type": "stream",
          "text": [
            "Requirement already satisfied: gym in /usr/local/lib/python3.6/dist-packages (0.17.2)\n",
            "Requirement already satisfied: cloudpickle<1.4.0,>=1.2.0 in /usr/local/lib/python3.6/dist-packages (from gym) (1.3.0)\n",
            "Requirement already satisfied: scipy in /usr/local/lib/python3.6/dist-packages (from gym) (1.4.1)\n",
            "Requirement already satisfied: numpy>=1.10.4 in /usr/local/lib/python3.6/dist-packages (from gym) (1.18.4)\n",
            "Requirement already satisfied: pyglet<=1.5.0,>=1.4.0 in /usr/local/lib/python3.6/dist-packages (from gym) (1.5.0)\n",
            "Requirement already satisfied: future in /usr/local/lib/python3.6/dist-packages (from pyglet<=1.5.0,>=1.4.0->gym) (0.16.0)\n",
            "Requirement already satisfied: gym[atarti] in /usr/local/lib/python3.6/dist-packages (0.17.2)\n",
            "\u001b[33m  WARNING: gym 0.17.2 does not provide the extra 'atarti'\u001b[0m\n",
            "Requirement already satisfied: numpy>=1.10.4 in /usr/local/lib/python3.6/dist-packages (from gym[atarti]) (1.18.4)\n",
            "Requirement already satisfied: pyglet<=1.5.0,>=1.4.0 in /usr/local/lib/python3.6/dist-packages (from gym[atarti]) (1.5.0)\n",
            "Requirement already satisfied: cloudpickle<1.4.0,>=1.2.0 in /usr/local/lib/python3.6/dist-packages (from gym[atarti]) (1.3.0)\n",
            "Requirement already satisfied: scipy in /usr/local/lib/python3.6/dist-packages (from gym[atarti]) (1.4.1)\n",
            "Requirement already satisfied: future in /usr/local/lib/python3.6/dist-packages (from pyglet<=1.5.0,>=1.4.0->gym[atarti]) (0.16.0)\n",
            "Requirement already satisfied: gym[Box2D] in /usr/local/lib/python3.6/dist-packages (0.17.2)\n",
            "Requirement already satisfied: pyglet<=1.5.0,>=1.4.0 in /usr/local/lib/python3.6/dist-packages (from gym[Box2D]) (1.5.0)\n",
            "Requirement already satisfied: numpy>=1.10.4 in /usr/local/lib/python3.6/dist-packages (from gym[Box2D]) (1.18.4)\n",
            "Requirement already satisfied: cloudpickle<1.4.0,>=1.2.0 in /usr/local/lib/python3.6/dist-packages (from gym[Box2D]) (1.3.0)\n",
            "Requirement already satisfied: scipy in /usr/local/lib/python3.6/dist-packages (from gym[Box2D]) (1.4.1)\n",
            "Collecting box2d-py~=2.3.5; extra == \"box2d\"\n",
            "\u001b[?25l  Downloading https://files.pythonhosted.org/packages/06/bd/6cdc3fd994b0649dcf5d9bad85bd9e26172308bbe9a421bfc6fdbf5081a6/box2d_py-2.3.8-cp36-cp36m-manylinux1_x86_64.whl (448kB)\n",
            "\u001b[K     |████████████████████████████████| 450kB 11.5MB/s \n",
            "\u001b[?25hRequirement already satisfied: future in /usr/local/lib/python3.6/dist-packages (from pyglet<=1.5.0,>=1.4.0->gym[Box2D]) (0.16.0)\n",
            "Installing collected packages: box2d-py\n",
            "Successfully installed box2d-py-2.3.8\n"
          ],
          "name": "stdout"
        }
      ]
    },
    {
      "cell_type": "code",
      "metadata": {
        "colab_type": "code",
        "id": "mV_y1Ne5JGZQ",
        "outputId": "5b9f69ef-e4a5-4d50-9a65-ec3c095f3ff7",
        "colab": {
          "base_uri": "https://localhost:8080/",
          "height": 567
        }
      },
      "source": [
        "import numpy as np\n",
        "import gym\n",
        "\n",
        "from keras.models import Model\n",
        "from keras.layers import Dense, Flatten, Input\n",
        "from keras.optimizers import Adam\n",
        "\n",
        "from rl.agents.dqn import DQNAgent\n",
        "from rl.policy import LinearAnnealedPolicy, EpsGreedyQPolicy\n",
        "from rl.memory import SequentialMemory\n",
        "from rl.callbacks import ModelIntervalCheckpoint, FileLogger\n"
      ],
      "execution_count": 6,
      "outputs": [
        {
          "output_type": "stream",
          "text": [
            "Using TensorFlow backend.\n"
          ],
          "name": "stderr"
        },
        {
          "output_type": "error",
          "ename": "ModuleNotFoundError",
          "evalue": "ignored",
          "traceback": [
            "\u001b[0;31m---------------------------------------------------------------------------\u001b[0m",
            "\u001b[0;31mModuleNotFoundError\u001b[0m                       Traceback (most recent call last)",
            "\u001b[0;32m<ipython-input-6-9b3e6bf13da0>\u001b[0m in \u001b[0;36m<module>\u001b[0;34m()\u001b[0m\n\u001b[1;32m      6\u001b[0m \u001b[0;32mfrom\u001b[0m \u001b[0mkeras\u001b[0m\u001b[0;34m.\u001b[0m\u001b[0moptimizers\u001b[0m \u001b[0;32mimport\u001b[0m \u001b[0mAdam\u001b[0m\u001b[0;34m\u001b[0m\u001b[0;34m\u001b[0m\u001b[0m\n\u001b[1;32m      7\u001b[0m \u001b[0;34m\u001b[0m\u001b[0m\n\u001b[0;32m----> 8\u001b[0;31m \u001b[0;32mfrom\u001b[0m \u001b[0mrl\u001b[0m\u001b[0;34m.\u001b[0m\u001b[0magents\u001b[0m\u001b[0;34m.\u001b[0m\u001b[0mdqn\u001b[0m \u001b[0;32mimport\u001b[0m \u001b[0mDQNAgent\u001b[0m\u001b[0;34m\u001b[0m\u001b[0;34m\u001b[0m\u001b[0m\n\u001b[0m\u001b[1;32m      9\u001b[0m \u001b[0;32mfrom\u001b[0m \u001b[0mrl\u001b[0m\u001b[0;34m.\u001b[0m\u001b[0mpolicy\u001b[0m \u001b[0;32mimport\u001b[0m \u001b[0mLinearAnnealedPolicy\u001b[0m\u001b[0;34m,\u001b[0m \u001b[0mEpsGreedyQPolicy\u001b[0m\u001b[0;34m\u001b[0m\u001b[0;34m\u001b[0m\u001b[0m\n\u001b[1;32m     10\u001b[0m \u001b[0;32mfrom\u001b[0m \u001b[0mrl\u001b[0m\u001b[0;34m.\u001b[0m\u001b[0mmemory\u001b[0m \u001b[0;32mimport\u001b[0m \u001b[0mSequentialMemory\u001b[0m\u001b[0;34m\u001b[0m\u001b[0;34m\u001b[0m\u001b[0m\n",
            "\u001b[0;32m/content/keras-rl/rl/agents/__init__.py\u001b[0m in \u001b[0;36m<module>\u001b[0;34m()\u001b[0m\n\u001b[1;32m      1\u001b[0m \u001b[0;32mfrom\u001b[0m \u001b[0m__future__\u001b[0m \u001b[0;32mimport\u001b[0m \u001b[0mabsolute_import\u001b[0m\u001b[0;34m\u001b[0m\u001b[0;34m\u001b[0m\u001b[0m\n\u001b[0;32m----> 2\u001b[0;31m \u001b[0;32mfrom\u001b[0m \u001b[0;34m.\u001b[0m\u001b[0mdqn\u001b[0m \u001b[0;32mimport\u001b[0m \u001b[0mDQNAgent\u001b[0m\u001b[0;34m,\u001b[0m \u001b[0mNAFAgent\u001b[0m\u001b[0;34m,\u001b[0m \u001b[0mContinuousDQNAgent\u001b[0m\u001b[0;34m\u001b[0m\u001b[0;34m\u001b[0m\u001b[0m\n\u001b[0m\u001b[1;32m      3\u001b[0m \u001b[0;32mfrom\u001b[0m \u001b[0;34m.\u001b[0m\u001b[0mddpg\u001b[0m \u001b[0;32mimport\u001b[0m \u001b[0mDDPGAgent\u001b[0m\u001b[0;34m\u001b[0m\u001b[0;34m\u001b[0m\u001b[0m\n\u001b[1;32m      4\u001b[0m \u001b[0;32mfrom\u001b[0m \u001b[0;34m.\u001b[0m\u001b[0mcem\u001b[0m \u001b[0;32mimport\u001b[0m \u001b[0mCEMAgent\u001b[0m\u001b[0;34m\u001b[0m\u001b[0;34m\u001b[0m\u001b[0m\n\u001b[1;32m      5\u001b[0m \u001b[0;32mfrom\u001b[0m \u001b[0;34m.\u001b[0m\u001b[0msarsa\u001b[0m \u001b[0;32mimport\u001b[0m \u001b[0mSarsaAgent\u001b[0m\u001b[0;34m,\u001b[0m \u001b[0mSARSAAgent\u001b[0m\u001b[0;34m\u001b[0m\u001b[0;34m\u001b[0m\u001b[0m\n",
            "\u001b[0;32m/content/keras-rl/rl/agents/dqn.py\u001b[0m in \u001b[0;36m<module>\u001b[0;34m()\u001b[0m\n\u001b[1;32m      6\u001b[0m \u001b[0;32mfrom\u001b[0m \u001b[0mkeras\u001b[0m\u001b[0;34m.\u001b[0m\u001b[0mlayers\u001b[0m \u001b[0;32mimport\u001b[0m \u001b[0mLambda\u001b[0m\u001b[0;34m,\u001b[0m \u001b[0mInput\u001b[0m\u001b[0;34m,\u001b[0m \u001b[0mLayer\u001b[0m\u001b[0;34m,\u001b[0m \u001b[0mDense\u001b[0m\u001b[0;34m\u001b[0m\u001b[0;34m\u001b[0m\u001b[0m\n\u001b[1;32m      7\u001b[0m \u001b[0;34m\u001b[0m\u001b[0m\n\u001b[0;32m----> 8\u001b[0;31m \u001b[0;32mfrom\u001b[0m \u001b[0mrl\u001b[0m\u001b[0;34m.\u001b[0m\u001b[0mcore\u001b[0m \u001b[0;32mimport\u001b[0m \u001b[0mAgent\u001b[0m\u001b[0;34m\u001b[0m\u001b[0;34m\u001b[0m\u001b[0m\n\u001b[0m\u001b[1;32m      9\u001b[0m \u001b[0;32mfrom\u001b[0m \u001b[0mrl\u001b[0m\u001b[0;34m.\u001b[0m\u001b[0mpolicy\u001b[0m \u001b[0;32mimport\u001b[0m \u001b[0mEpsGreedyQPolicy\u001b[0m\u001b[0;34m,\u001b[0m \u001b[0mGreedyQPolicy\u001b[0m\u001b[0;34m\u001b[0m\u001b[0;34m\u001b[0m\u001b[0m\n\u001b[1;32m     10\u001b[0m \u001b[0;32mfrom\u001b[0m \u001b[0mrl\u001b[0m\u001b[0;34m.\u001b[0m\u001b[0mutil\u001b[0m \u001b[0;32mimport\u001b[0m \u001b[0;34m*\u001b[0m\u001b[0;34m\u001b[0m\u001b[0;34m\u001b[0m\u001b[0m\n",
            "\u001b[0;32m/content/keras-rl/rl/core.py\u001b[0m in \u001b[0;36m<module>\u001b[0;34m()\u001b[0m\n\u001b[1;32m      6\u001b[0m \u001b[0;32mfrom\u001b[0m \u001b[0mkeras\u001b[0m\u001b[0;34m.\u001b[0m\u001b[0mcallbacks\u001b[0m \u001b[0;32mimport\u001b[0m \u001b[0mHistory\u001b[0m\u001b[0;34m\u001b[0m\u001b[0;34m\u001b[0m\u001b[0m\n\u001b[1;32m      7\u001b[0m \u001b[0;34m\u001b[0m\u001b[0m\n\u001b[0;32m----> 8\u001b[0;31m from rl.callbacks import (\n\u001b[0m\u001b[1;32m      9\u001b[0m     \u001b[0mCallbackList\u001b[0m\u001b[0;34m,\u001b[0m\u001b[0;34m\u001b[0m\u001b[0;34m\u001b[0m\u001b[0m\n\u001b[1;32m     10\u001b[0m     \u001b[0mTestLogger\u001b[0m\u001b[0;34m,\u001b[0m\u001b[0;34m\u001b[0m\u001b[0;34m\u001b[0m\u001b[0m\n",
            "\u001b[0;32m/content/keras-rl/rl/callbacks.py\u001b[0m in \u001b[0;36m<module>\u001b[0;34m()\u001b[0m\n\u001b[1;32m      7\u001b[0m \u001b[0;34m\u001b[0m\u001b[0m\n\u001b[1;32m      8\u001b[0m \u001b[0;32mimport\u001b[0m \u001b[0mnumpy\u001b[0m \u001b[0;32mas\u001b[0m \u001b[0mnp\u001b[0m\u001b[0;34m\u001b[0m\u001b[0;34m\u001b[0m\u001b[0m\n\u001b[0;32m----> 9\u001b[0;31m \u001b[0;32mimport\u001b[0m \u001b[0mwandb\u001b[0m\u001b[0;34m\u001b[0m\u001b[0;34m\u001b[0m\u001b[0m\n\u001b[0m\u001b[1;32m     10\u001b[0m \u001b[0;34m\u001b[0m\u001b[0m\n\u001b[1;32m     11\u001b[0m \u001b[0;32mfrom\u001b[0m \u001b[0mkeras\u001b[0m \u001b[0;32mimport\u001b[0m \u001b[0m__version__\u001b[0m \u001b[0;32mas\u001b[0m \u001b[0mKERAS_VERSION\u001b[0m\u001b[0;34m\u001b[0m\u001b[0;34m\u001b[0m\u001b[0m\n",
            "\u001b[0;31mModuleNotFoundError\u001b[0m: No module named 'wandb'",
            "",
            "\u001b[0;31m---------------------------------------------------------------------------\u001b[0;32m\nNOTE: If your import is failing due to a missing package, you can\nmanually install dependencies using either !pip or !apt.\n\nTo view examples of installing some common dependencies, click the\n\"Open Examples\" button below.\n\u001b[0;31m---------------------------------------------------------------------------\u001b[0m\n"
          ]
        }
      ]
    },
    {
      "cell_type": "code",
      "metadata": {
        "colab_type": "code",
        "id": "EbhqCj7SIlXB",
        "colab": {}
      },
      "source": [
        "def build_model(state_size, num_actions):\n",
        "    input = Input(shape=(1,state_size))\n",
        "    x = Flatten()(input)\n",
        "    x = Dense(16, activation='relu')(x)\n",
        "    x = Dense(16, activation='relu')(x)\n",
        "    x = Dense(16, activation='relu')(x)\n",
        "    output = Dense(num_actions, activation='linear')(x)\n",
        "    model = Model(inputs=input, outputs=output)\n",
        "    print(model.summary())\n",
        "    return model\n",
        "\n",
        "\n",
        "def build_callbacks(env_name):\n",
        "    checkpoint_weights_filename = 'dqn_' + env_name + '_weights_{step}.h5f'\n",
        "    log_filename = 'dqn_{}_log.json'.format(env_name)\n",
        "    callbacks = [ModelIntervalCheckpoint(checkpoint_weights_filename, \n",
        "                                         interval=5000)]\n",
        "    callbacks += [FileLogger(log_filename, interval=100)]\n",
        "    return callbacks"
      ],
      "execution_count": 0,
      "outputs": []
    },
    {
      "cell_type": "code",
      "metadata": {
        "colab_type": "code",
        "id": "5_AcYBqZJAXE",
        "outputId": "338cc3a5-9d63-4d4e-d468-3d103e8b8aad",
        "colab": {
          "base_uri": "https://localhost:8080/",
          "height": 1000
        }
      },
      "source": [
        "# 카트폴 환경설정\n",
        "ENV_NAME = 'CartPole-v0'\n",
        "env = gym.make(ENV_NAME)\n",
        "np.random.seed(9)\n",
        "env.seed(9)\n",
        "num_actions = env.action_space.n\n",
        "state_space = env.observation_space.shape[0]\n",
        "print(num_actions)\n",
        "\n",
        "model = build_model(state_space, num_actions)\n",
        "\n",
        "# 에이전트의 경험을 저장한 빠른 메모리구조, 최대크기 지정\n",
        "memory = SequentialMemory(limit=50000, window_length=1)\n",
        "\n",
        "# e 탐욕 Q 정책 설정(1~0.1, 10000 스텝)\n",
        "policy = LinearAnnealedPolicy(EpsGreedyQPolicy(), \n",
        "           attr='eps', value_max=1., value_min=.1, value_test=.05,\n",
        "           nb_steps=10000)\n",
        "\n",
        "# 에이전트 생성 ()\n",
        "dqn = DQNAgent(model=model, nb_actions=num_actions, \n",
        "               memory=memory, nb_steps_warmup=10,\n",
        "               target_model_update=1e-2, policy=policy)\n",
        "# 컴파일\n",
        "dqn.compile(Adam(lr=1e-3), metrics=['mae'])\n",
        "callbacks = build_callbacks(ENV_NAME)\n",
        "\n",
        "dqn.fit(env, nb_steps=50000,\n",
        "        visualize=False,\n",
        "        verbose=0,\n",
        "        callbacks=callbacks)\n",
        "\n",
        "# After training is done, we save the final weights.\n",
        "dqn.save_weights('dqn_{}_weights.h5f'.format(ENV_NAME), overwrite=True)"
      ],
      "execution_count": 0,
      "outputs": [
        {
          "output_type": "stream",
          "text": [
            "2\n",
            "Model: \"model_1\"\n",
            "_________________________________________________________________\n",
            "Layer (type)                 Output Shape              Param #   \n",
            "=================================================================\n",
            "input_1 (InputLayer)         (None, 1, 4)              0         \n",
            "_________________________________________________________________\n",
            "flatten_1 (Flatten)          (None, 4)                 0         \n",
            "_________________________________________________________________\n",
            "dense_1 (Dense)              (None, 16)                80        \n",
            "_________________________________________________________________\n",
            "dense_2 (Dense)              (None, 16)                272       \n",
            "_________________________________________________________________\n",
            "dense_3 (Dense)              (None, 16)                272       \n",
            "_________________________________________________________________\n",
            "dense_4 (Dense)              (None, 2)                 34        \n",
            "=================================================================\n",
            "Total params: 658\n",
            "Trainable params: 658\n",
            "Non-trainable params: 0\n",
            "_________________________________________________________________\n",
            "None\n",
            "WARNING:tensorflow:From /Users/hwa-kim/opt/anaconda3/lib/python3.7/site-packages/Keras-2.3.1-py3.7.egg/keras/backend/tensorflow_backend.py:422: The name tf.global_variables is deprecated. Please use tf.compat.v1.global_variables instead.\n",
            "\n"
          ],
          "name": "stdout"
        },
        {
          "output_type": "stream",
          "text": [
            "/Users/hwa-kim/Dropbox/lab/book5/keras-rl/rl/memory.py:39: UserWarning: Not enough entries to sample without replacement. Consider increasing your warm-up phase to avoid oversampling!\n",
            "  warnings.warn('Not enough entries to sample without replacement. Consider increasing your warm-up phase to avoid oversampling!')\n"
          ],
          "name": "stderr"
        }
      ]
    },
    {
      "cell_type": "code",
      "metadata": {
        "colab_type": "code",
        "id": "4l_K7rXjY9-C",
        "outputId": "086abe88-eca6-4cd1-a161-3f9e39b3695f",
        "colab": {}
      },
      "source": [
        "dqn.test(env, nb_episodes=20, visualize=True)"
      ],
      "execution_count": 0,
      "outputs": [
        {
          "output_type": "stream",
          "text": [
            "Testing for 20 episodes ...\n",
            "Episode 1: reward: 200.000, steps: 200\n",
            "Episode 2: reward: 200.000, steps: 200\n",
            "Episode 3: reward: 200.000, steps: 200\n",
            "Episode 4: reward: 200.000, steps: 200\n",
            "Episode 5: reward: 200.000, steps: 200\n",
            "Episode 6: reward: 200.000, steps: 200\n",
            "Episode 7: reward: 200.000, steps: 200\n",
            "Episode 8: reward: 200.000, steps: 200\n",
            "Episode 9: reward: 200.000, steps: 200\n",
            "Episode 10: reward: 200.000, steps: 200\n",
            "Episode 11: reward: 200.000, steps: 200\n",
            "Episode 12: reward: 200.000, steps: 200\n",
            "Episode 13: reward: 200.000, steps: 200\n",
            "Episode 14: reward: 200.000, steps: 200\n",
            "Episode 15: reward: 200.000, steps: 200\n",
            "Episode 16: reward: 200.000, steps: 200\n",
            "Episode 17: reward: 200.000, steps: 200\n",
            "Episode 18: reward: 200.000, steps: 200\n",
            "Episode 19: reward: 200.000, steps: 200\n",
            "Episode 20: reward: 200.000, steps: 200\n"
          ],
          "name": "stdout"
        },
        {
          "output_type": "execute_result",
          "data": {
            "text/plain": [
              "<keras.callbacks.callbacks.History at 0x64b557410>"
            ]
          },
          "metadata": {
            "tags": []
          },
          "execution_count": 14
        }
      ]
    },
    {
      "cell_type": "code",
      "metadata": {
        "colab_type": "code",
        "id": "ehTkRmjxY9-E",
        "outputId": "8863a61d-cbdf-4ce4-dcd9-81e98e3c4de9",
        "scrolled": true,
        "colab": {}
      },
      "source": [
        "!ls"
      ],
      "execution_count": 0,
      "outputs": [
        {
          "output_type": "stream",
          "text": [
            "CONTRIBUTING.md                      dqn_CartPole-v0_weights_30000.h5f\r\n",
            "ISSUE_TEMPLATE.md                    dqn_CartPole-v0_weights_35000.h5f\r\n",
            "LICENSE                              dqn_CartPole-v0_weights_40000.h5f\r\n",
            "README.md                            dqn_CartPole-v0_weights_45000.h5f\r\n",
            "\u001b[34massets\u001b[m\u001b[m                               dqn_CartPole-v0_weights_5000.h5f\r\n",
            "\u001b[34mbuild\u001b[m\u001b[m                                dqn_CartPole-v0_weights_50000.h5f\r\n",
            "\u001b[34mdist\u001b[m\u001b[m                                 \u001b[34mexamples\u001b[m\u001b[m\r\n",
            "\u001b[34mdocs\u001b[m\u001b[m                                 \u001b[34mkeras_rl.egg-info\u001b[m\u001b[m\r\n",
            "dqn_CartPloe_model_architecture.json mkdocs.yml\r\n",
            "dqn_CartPole-v0_log.json             pytest.ini\r\n",
            "dqn_CartPole-v0_weights.h5f          \u001b[34mrl\u001b[m\u001b[m\r\n",
            "dqn_CartPole-v0_weights_10000.h5f    setup.cfg\r\n",
            "dqn_CartPole-v0_weights_15000.h5f    setup.py\r\n",
            "dqn_CartPole-v0_weights_20000.h5f    \u001b[34mtests\u001b[m\u001b[m\r\n",
            "dqn_CartPole-v0_weights_25000.h5f    \u001b[34mutils\u001b[m\u001b[m\r\n"
          ],
          "name": "stdout"
        }
      ]
    },
    {
      "cell_type": "code",
      "metadata": {
        "colab_type": "code",
        "id": "JMXzcg4zY9-G",
        "colab": {}
      },
      "source": [
        "# with open('dqn_CartPloe_model_architecture.json', 'w') as f:\n",
        "#     f.write(dqn.to_json())"
      ],
      "execution_count": 0,
      "outputs": []
    },
    {
      "cell_type": "code",
      "metadata": {
        "colab_type": "code",
        "id": "mmW_DwYGY9-H",
        "colab": {}
      },
      "source": [
        "dqn2 = DQNAgent(model=model, nb_actions=num_actions, \n",
        "               memory=memory, nb_steps_warmup=10,\n",
        "               target_model_update=1e-2, policy=policy)\n",
        "# 컴파일\n",
        "dqn2.compile(Adam(lr=1e-3), metrics=['mae'])"
      ],
      "execution_count": 0,
      "outputs": []
    },
    {
      "cell_type": "code",
      "metadata": {
        "colab_type": "code",
        "id": "lhdq2_1AY9-I",
        "colab": {}
      },
      "source": [
        "dqn2.load_weights('dqn_CartPole-v0_weights_50000.h5f')"
      ],
      "execution_count": 0,
      "outputs": []
    },
    {
      "cell_type": "code",
      "metadata": {
        "colab_type": "code",
        "id": "IMJQScSqY9-J",
        "outputId": "1c72314d-d43a-4e81-927f-5b33dabc4178",
        "colab": {}
      },
      "source": [
        "dqn2.test(env, nb_episodes=20, visualize=True)"
      ],
      "execution_count": 0,
      "outputs": [
        {
          "output_type": "stream",
          "text": [
            "Testing for 20 episodes ...\n",
            "Episode 1: reward: 200.000, steps: 200\n",
            "Episode 2: reward: 200.000, steps: 200\n",
            "Episode 3: reward: 200.000, steps: 200\n",
            "Episode 4: reward: 200.000, steps: 200\n",
            "Episode 5: reward: 200.000, steps: 200\n",
            "Episode 6: reward: 200.000, steps: 200\n",
            "Episode 7: reward: 200.000, steps: 200\n",
            "Episode 8: reward: 200.000, steps: 200\n",
            "Episode 9: reward: 200.000, steps: 200\n",
            "Episode 10: reward: 200.000, steps: 200\n",
            "Episode 11: reward: 200.000, steps: 200\n",
            "Episode 12: reward: 200.000, steps: 200\n",
            "Episode 13: reward: 200.000, steps: 200\n",
            "Episode 14: reward: 200.000, steps: 200\n",
            "Episode 15: reward: 200.000, steps: 200\n",
            "Episode 16: reward: 200.000, steps: 200\n",
            "Episode 17: reward: 200.000, steps: 200\n",
            "Episode 18: reward: 200.000, steps: 200\n",
            "Episode 19: reward: 200.000, steps: 200\n",
            "Episode 20: reward: 200.000, steps: 200\n"
          ],
          "name": "stdout"
        },
        {
          "output_type": "execute_result",
          "data": {
            "text/plain": [
              "<keras.callbacks.callbacks.History at 0x64dd50610>"
            ]
          },
          "metadata": {
            "tags": []
          },
          "execution_count": 20
        }
      ]
    },
    {
      "cell_type": "code",
      "metadata": {
        "colab_type": "code",
        "id": "AcWKkTsHY9-K",
        "colab": {}
      },
      "source": [
        ""
      ],
      "execution_count": 0,
      "outputs": []
    }
  ]
}