{
  "nbformat": 4,
  "nbformat_minor": 0,
  "metadata": {
    "colab": {
      "name": "gh_01_folium_ex1.ipynb",
      "provenance": [],
      "collapsed_sections": [],
      "authorship_tag": "ABX9TyO7PUC34rsPihrVLk8Pit9y",
      "include_colab_link": true
    },
    "kernelspec": {
      "name": "python3",
      "display_name": "Python 3"
    }
  },
  "cells": [
    {
      "cell_type": "markdown",
      "metadata": {
        "id": "view-in-github",
        "colab_type": "text"
      },
      "source": [
        "<a href=\"https://colab.research.google.com/github/StillWork/book6/blob/master/gh_01_folium_ex1.ipynb\" target=\"_parent\"><img src=\"https://colab.research.google.com/assets/colab-badge.svg\" alt=\"Open In Colab\"/></a>"
      ]
    },
    {
      "cell_type": "code",
      "metadata": {
        "id": "c6MNb9a6LZV9",
        "colab_type": "code",
        "colab": {}
      },
      "source": [
        "import folium\n",
        "import webbrowser\n",
        "\n",
        "# city =    ( 위도,   경도)\n",
        "Seoul =     (37.54, 126.98)\n",
        "Busan =     (35.10, 129.04)\n",
        "Dokdo =     (37.14, 131.52)\n",
        "Pyongyang = (39.02, 125.47)\n",
        "Beijing =   (39.56, 116.17)\n",
        "Wuhan =     (30.58, 114.27)\n",
        "Tokyo =     (35.41, 139.46)\n",
        "\n",
        "Daejeon =   (35.87, 128.60)\n",
        "\n",
        "    \n",
        "def main():\n",
        "\n",
        "    cityName = ('Seoul', 'Busan', 'Dokdo', 'Pyongyang', \\\n",
        "                'Beijing', 'Wuhan', 'Tokyo')\n",
        "    cityPos = [Seoul, Busan, Dokdo, Pyongyang, Beijing, Wuhan, Tokyo]\n",
        "    cityTitle = ('Capital of Korea', '2nd largest city in Korea',\n",
        "                 'Dokdo is Korean Territory',\n",
        "                 'Capital of North Korea', 'Capital of China',\n",
        "                 'City of first outbreak of coronavirus',\n",
        "                 'Capital and host city of 2020 summer Olympic games in Japan')\n",
        "    \n",
        "    m = folium.Map(location = Daejeon,\n",
        "                   zoom_start = 6, tiles = 'Cartodb Positron')\n",
        " \n",
        "    for i in range(len(cityName)):\n",
        "        folium.Circle(location = cityPos[i], tooltip = cityName[i],\n",
        "                      radius = 30000, color = '#0000FF',\n",
        "                      fill = 'crimson',).add_to(m)\n",
        "\n",
        "        if cityName[i] == 'Dokdo':\n",
        "            folium.Marker(location = cityPos[i],\n",
        "                      popup=cityTitle[i],\n",
        "                      icon=folium.Icon(color='red',icon='star')).add_to(m)\n",
        "        else:            \n",
        "            folium.Marker(location = cityPos[i],\n",
        "                      popup=cityTitle[i],\n",
        "                      icon=folium.Icon(color='blue',icon='ok')).add_to(m)\n",
        "        \n",
        "    m.save('map.html')\n",
        "    webbrowser.open('map.html')    \n",
        "\n",
        "\n",
        "# main 함수 로딩부\n",
        "if __name__ == '__main__':\n",
        "    main()\n",
        "\n"
      ],
      "execution_count": 0,
      "outputs": []
    },
    {
      "cell_type": "code",
      "metadata": {
        "id": "YpXpmAz9Laqy",
        "colab_type": "code",
        "colab": {}
      },
      "source": [
        ""
      ],
      "execution_count": 0,
      "outputs": []
    }
  ]
}